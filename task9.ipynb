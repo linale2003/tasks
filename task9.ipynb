{
 "cells": [
  {
   "cell_type": "code",
   "execution_count": 63,
   "id": "fcb26f39",
   "metadata": {},
   "outputs": [],
   "source": [
    "class Moto():\n",
    "    def __init__(self,name,model,max_speed,power,weight,wheels):\n",
    "        self.name=name\n",
    "        self.model=model\n",
    "        self.max_speed=max_speed\n",
    "        self.weight=weight \n",
    "        self.power=power\n",
    "        self.wheels=wheels\n",
    "        self.bring = 'not started'\n",
    "        \n",
    "\n",
    "    def passenger(self):\n",
    "        if(self.wheels>2):\n",
    "            print(\"%s is Passenger motorcycle\"%self.name)\n",
    "        else:\n",
    "            print(\"%s isn't Passenger motorcycle\"%self.name)\n",
    "            \n",
    "            \n",
    "    def race(self):\n",
    "        if(self.max_speed>300 or self.power>400):\n",
    "            print(\"%s can to participates in races\"%self.name)\n",
    "        else:\n",
    "            print(\"%s can't participates in races\"%self.name)\n",
    "            \n",
    "    def ATV(self):\n",
    "        if(self.wheels>3 and self.power>250):\n",
    "            print(\"%s is ATV motorcycle\"%self.name)\n",
    "        else:\n",
    "            print(\"%s isn't ATV motorcycle\"%self.name)\n",
    "    def bring1(self):\n",
    "        self.bring = 'started'\n",
    "        print('Your %s is started' %self.name)\n",
    "    def drive(self):\n",
    "        if(self.bring == 'started'):\n",
    "            print('Let is go!')\n",
    "        else:\n",
    "            print('Please started your %s' %self.name)\n",
    "    def rare(self):\n",
    "        if(self.weight>170 and self.max_speed<150):\n",
    "            print(\" %s can stand in the auction\"%self.name)\n",
    "        else:\n",
    "            print(\" %s can't stand in the auction\"%self.name)\n",
    "    def age(self):\n",
    "        if(self.power>140 and self.max_speed>180):\n",
    "            print(\"you need a license to drive %s\"%self.name)\n",
    "        else:\n",
    "            print(\"you are not allowed to sit on %s\"%self.name)"
   ]
  },
  {
   "cell_type": "code",
   "execution_count": 66,
   "id": "6fcc1607",
   "metadata": {},
   "outputs": [],
   "source": [
    "moto1=Moto('R 1250 GS Adventure','BMW',280,136,485 ,2)\n",
    "moto2=Moto('GL 1800','Honda ',198,118,415,2)\n",
    "moto3=Moto('250 S4','Puch',120,100,400,2)"
   ]
  },
  {
   "cell_type": "code",
   "execution_count": 67,
   "id": "c8a11809",
   "metadata": {},
   "outputs": [
    {
     "name": "stdout",
     "output_type": "stream",
     "text": [
      "Please started your R 1250 GS Adventure\n"
     ]
    }
   ],
   "source": [
    "moto1.drive()"
   ]
  },
  {
   "cell_type": "code",
   "execution_count": 68,
   "id": "3a3d6b9f",
   "metadata": {},
   "outputs": [
    {
     "name": "stdout",
     "output_type": "stream",
     "text": [
      "Your R 1250 GS Adventure is started\n"
     ]
    }
   ],
   "source": [
    "moto1.bring1()"
   ]
  },
  {
   "cell_type": "code",
   "execution_count": 69,
   "id": "3b519e0c",
   "metadata": {},
   "outputs": [
    {
     "name": "stdout",
     "output_type": "stream",
     "text": [
      "Let is go!\n"
     ]
    }
   ],
   "source": [
    "moto1.drive()"
   ]
  },
  {
   "cell_type": "code",
   "execution_count": 70,
   "id": "91d06791",
   "metadata": {},
   "outputs": [
    {
     "name": "stdout",
     "output_type": "stream",
     "text": [
      "Please started your GL 1800\n"
     ]
    }
   ],
   "source": [
    "moto2.drive()"
   ]
  },
  {
   "cell_type": "code",
   "execution_count": 71,
   "id": "87d213c9",
   "metadata": {},
   "outputs": [
    {
     "name": "stdout",
     "output_type": "stream",
     "text": [
      "Your GL 1800 is started\n"
     ]
    }
   ],
   "source": [
    "moto2.bring1()"
   ]
  },
  {
   "cell_type": "code",
   "execution_count": 72,
   "id": "e1088a7e",
   "metadata": {},
   "outputs": [
    {
     "name": "stdout",
     "output_type": "stream",
     "text": [
      "Let is go!\n"
     ]
    }
   ],
   "source": [
    "moto2.drive()"
   ]
  },
  {
   "cell_type": "code",
   "execution_count": 73,
   "id": "50fe6ca0",
   "metadata": {},
   "outputs": [
    {
     "name": "stdout",
     "output_type": "stream",
     "text": [
      "you are not allowed to sit on GL 1800\n"
     ]
    }
   ],
   "source": [
    "moto2.age()"
   ]
  },
  {
   "cell_type": "code",
   "execution_count": null,
   "id": "4a8e8c82",
   "metadata": {},
   "outputs": [],
   "source": []
  }
 ],
 "metadata": {
  "kernelspec": {
   "display_name": "Python 3 (ipykernel)",
   "language": "python",
   "name": "python3"
  },
  "language_info": {
   "codemirror_mode": {
    "name": "ipython",
    "version": 3
   },
   "file_extension": ".py",
   "mimetype": "text/x-python",
   "name": "python",
   "nbconvert_exporter": "python",
   "pygments_lexer": "ipython3",
   "version": "3.9.7"
  }
 },
 "nbformat": 4,
 "nbformat_minor": 5
}
